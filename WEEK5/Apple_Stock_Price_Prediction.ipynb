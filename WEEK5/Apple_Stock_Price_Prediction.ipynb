{
  "nbformat": 4,
  "nbformat_minor": 0,
  "metadata": {
    "colab": {
      "name": "Apple Stock Price Prediction.ipynb",
      "provenance": [],
      "collapsed_sections": []
    },
    "kernelspec": {
      "name": "python3",
      "display_name": "Python 3"
    },
    "language_info": {
      "name": "python"
    },
    "accelerator": "GPU"
  },
  "cells": [
    {
      "cell_type": "markdown",
      "metadata": {
        "id": "iw2aTArSEbqr"
      },
      "source": [
        "# **Week 5 Task** - Stock Price Prediction - Apple\n",
        "---\n",
        "---"
      ]
    },
    {
      "cell_type": "code",
      "metadata": {
        "id": "GnUHr-nANrcU"
      },
      "source": [
        "!pip install --upgrade pandas\n",
        "!pip install --upgrade pandas-datareader"
      ],
      "execution_count": null,
      "outputs": []
    },
    {
      "cell_type": "markdown",
      "metadata": {
        "id": "hChBrb96Ewjf"
      },
      "source": [
        "### **Import Libraries**"
      ]
    },
    {
      "cell_type": "code",
      "metadata": {
        "id": "yk_7HcFlK17y"
      },
      "source": [
        "import math\n",
        "import pandas_datareader as web\n",
        "import numpy as np\n",
        "import pandas as pd\n",
        "from sklearn.preprocessing import MinMaxScaler\n",
        "from sklearn.metrics import mean_squared_error\n",
        "from keras.models import Sequential\n",
        "from keras.layers import Dense, LSTM\n",
        "import seaborn as sns\n",
        "import matplotlib.pyplot as plt\n",
        "plt.style.use('fivethirtyeight') "
      ],
      "execution_count": 2,
      "outputs": []
    },
    {
      "cell_type": "markdown",
      "metadata": {
        "id": "QdLXG62cFGFx"
      },
      "source": [
        "### **Read Dataset**"
      ]
    },
    {
      "cell_type": "code",
      "metadata": {
        "colab": {
          "base_uri": "https://localhost:8080/",
          "height": 447
        },
        "id": "WUPiKKPJL_0E",
        "outputId": "07394d5e-f50e-45a6-82c2-0dd420ef5202"
      },
      "source": [
        "df = web.DataReader('AAPL', data_source='yahoo',  start='2012-01-01', end='2019-12-17')\n",
        "df"
      ],
      "execution_count": 3,
      "outputs": [
        {
          "output_type": "execute_result",
          "data": {
            "text/html": [
              "<div>\n",
              "<style scoped>\n",
              "    .dataframe tbody tr th:only-of-type {\n",
              "        vertical-align: middle;\n",
              "    }\n",
              "\n",
              "    .dataframe tbody tr th {\n",
              "        vertical-align: top;\n",
              "    }\n",
              "\n",
              "    .dataframe thead th {\n",
              "        text-align: right;\n",
              "    }\n",
              "</style>\n",
              "<table border=\"1\" class=\"dataframe\">\n",
              "  <thead>\n",
              "    <tr style=\"text-align: right;\">\n",
              "      <th></th>\n",
              "      <th>High</th>\n",
              "      <th>Low</th>\n",
              "      <th>Open</th>\n",
              "      <th>Close</th>\n",
              "      <th>Volume</th>\n",
              "      <th>Adj Close</th>\n",
              "    </tr>\n",
              "    <tr>\n",
              "      <th>Date</th>\n",
              "      <th></th>\n",
              "      <th></th>\n",
              "      <th></th>\n",
              "      <th></th>\n",
              "      <th></th>\n",
              "      <th></th>\n",
              "    </tr>\n",
              "  </thead>\n",
              "  <tbody>\n",
              "    <tr>\n",
              "      <th>2012-01-03</th>\n",
              "      <td>14.732143</td>\n",
              "      <td>14.607143</td>\n",
              "      <td>14.621429</td>\n",
              "      <td>14.686786</td>\n",
              "      <td>302220800.0</td>\n",
              "      <td>12.610315</td>\n",
              "    </tr>\n",
              "    <tr>\n",
              "      <th>2012-01-04</th>\n",
              "      <td>14.810000</td>\n",
              "      <td>14.617143</td>\n",
              "      <td>14.642857</td>\n",
              "      <td>14.765714</td>\n",
              "      <td>260022000.0</td>\n",
              "      <td>12.678085</td>\n",
              "    </tr>\n",
              "    <tr>\n",
              "      <th>2012-01-05</th>\n",
              "      <td>14.948214</td>\n",
              "      <td>14.738214</td>\n",
              "      <td>14.819643</td>\n",
              "      <td>14.929643</td>\n",
              "      <td>271269600.0</td>\n",
              "      <td>12.818838</td>\n",
              "    </tr>\n",
              "    <tr>\n",
              "      <th>2012-01-06</th>\n",
              "      <td>15.098214</td>\n",
              "      <td>14.972143</td>\n",
              "      <td>14.991786</td>\n",
              "      <td>15.085714</td>\n",
              "      <td>318292800.0</td>\n",
              "      <td>12.952841</td>\n",
              "    </tr>\n",
              "    <tr>\n",
              "      <th>2012-01-09</th>\n",
              "      <td>15.276786</td>\n",
              "      <td>15.048214</td>\n",
              "      <td>15.196429</td>\n",
              "      <td>15.061786</td>\n",
              "      <td>394024400.0</td>\n",
              "      <td>12.932299</td>\n",
              "    </tr>\n",
              "    <tr>\n",
              "      <th>...</th>\n",
              "      <td>...</td>\n",
              "      <td>...</td>\n",
              "      <td>...</td>\n",
              "      <td>...</td>\n",
              "      <td>...</td>\n",
              "      <td>...</td>\n",
              "    </tr>\n",
              "    <tr>\n",
              "      <th>2019-12-11</th>\n",
              "      <td>67.775002</td>\n",
              "      <td>67.125000</td>\n",
              "      <td>67.202499</td>\n",
              "      <td>67.692497</td>\n",
              "      <td>78756800.0</td>\n",
              "      <td>66.799057</td>\n",
              "    </tr>\n",
              "    <tr>\n",
              "      <th>2019-12-12</th>\n",
              "      <td>68.139999</td>\n",
              "      <td>66.830002</td>\n",
              "      <td>66.945000</td>\n",
              "      <td>67.864998</td>\n",
              "      <td>137310400.0</td>\n",
              "      <td>66.969292</td>\n",
              "    </tr>\n",
              "    <tr>\n",
              "      <th>2019-12-13</th>\n",
              "      <td>68.824997</td>\n",
              "      <td>67.732498</td>\n",
              "      <td>67.864998</td>\n",
              "      <td>68.787498</td>\n",
              "      <td>133587600.0</td>\n",
              "      <td>67.879601</td>\n",
              "    </tr>\n",
              "    <tr>\n",
              "      <th>2019-12-16</th>\n",
              "      <td>70.197502</td>\n",
              "      <td>69.245003</td>\n",
              "      <td>69.250000</td>\n",
              "      <td>69.964996</td>\n",
              "      <td>128186000.0</td>\n",
              "      <td>69.041557</td>\n",
              "    </tr>\n",
              "    <tr>\n",
              "      <th>2019-12-17</th>\n",
              "      <td>70.442497</td>\n",
              "      <td>69.699997</td>\n",
              "      <td>69.892502</td>\n",
              "      <td>70.102501</td>\n",
              "      <td>114158400.0</td>\n",
              "      <td>69.177261</td>\n",
              "    </tr>\n",
              "  </tbody>\n",
              "</table>\n",
              "<p>2003 rows × 6 columns</p>\n",
              "</div>"
            ],
            "text/plain": [
              "                 High        Low       Open      Close       Volume  Adj Close\n",
              "Date                                                                          \n",
              "2012-01-03  14.732143  14.607143  14.621429  14.686786  302220800.0  12.610315\n",
              "2012-01-04  14.810000  14.617143  14.642857  14.765714  260022000.0  12.678085\n",
              "2012-01-05  14.948214  14.738214  14.819643  14.929643  271269600.0  12.818838\n",
              "2012-01-06  15.098214  14.972143  14.991786  15.085714  318292800.0  12.952841\n",
              "2012-01-09  15.276786  15.048214  15.196429  15.061786  394024400.0  12.932299\n",
              "...               ...        ...        ...        ...          ...        ...\n",
              "2019-12-11  67.775002  67.125000  67.202499  67.692497   78756800.0  66.799057\n",
              "2019-12-12  68.139999  66.830002  66.945000  67.864998  137310400.0  66.969292\n",
              "2019-12-13  68.824997  67.732498  67.864998  68.787498  133587600.0  67.879601\n",
              "2019-12-16  70.197502  69.245003  69.250000  69.964996  128186000.0  69.041557\n",
              "2019-12-17  70.442497  69.699997  69.892502  70.102501  114158400.0  69.177261\n",
              "\n",
              "[2003 rows x 6 columns]"
            ]
          },
          "metadata": {},
          "execution_count": 3
        }
      ]
    },
    {
      "cell_type": "markdown",
      "metadata": {
        "id": "M5Z9js_pFNvz"
      },
      "source": [
        "### **Data Visualization**"
      ]
    },
    {
      "cell_type": "code",
      "metadata": {
        "colab": {
          "base_uri": "https://localhost:8080/",
          "height": 533
        },
        "id": "ONTpt1vfGunN",
        "outputId": "94872f09-b305-4037-d54d-4b1adbfdbe0c"
      },
      "source": [
        "plt.figure(figsize=(20,8))\n",
        "sns.heatmap(df.isnull(), yticklabels=False, cmap='viridis', cbar=False)"
      ],
      "execution_count": 4,
      "outputs": [
        {
          "output_type": "execute_result",
          "data": {
            "text/plain": [
              "<matplotlib.axes._subplots.AxesSubplot at 0x7fd0300d4110>"
            ]
          },
          "metadata": {},
          "execution_count": 4
        },
        {
          "output_type": "display_data",
          "data": {
            "image/png": "[encoded data removed]",
            "text/plain": [
              "<Figure size 1440x576 with 1 Axes>"
            ]
          },
          "metadata": {}
        }
      ]
    },
    {
      "cell_type": "markdown",
      "metadata": {
        "id": "YAvSYt3zHb_A"
      },
      "source": [
        "### **Observations** :<br/>\n",
        "* Heatmap shows nothing means No null values in this Dataset"
      ]
    },
    {
      "cell_type": "code",
      "metadata": {
        "id": "TFaiDJ1TMVpA",
        "colab": {
          "base_uri": "https://localhost:8080/",
          "height": 582
        },
        "outputId": "2ab49d2e-f7e0-4b65-ba25-ffd845b62a9b"
      },
      "source": [
        "plt.figure(figsize=(20,8))\n",
        "plt.title('Close Price')\n",
        "plt.plot(df['Close'])\n",
        "plt.xlabel('Date', fontsize=25)\n",
        "plt.ylabel('Close Price in $', fontsize=25)"
      ],
      "execution_count": 5,
      "outputs": [
        {
          "output_type": "execute_result",
          "data": {
            "text/plain": [
              "Text(0, 0.5, 'Close Price in $')"
            ]
          },
          "metadata": {},
          "execution_count": 5
        },
        {
          "output_type": "display_data",
          "data": {
            "image/png": "[encoded data removed]",
            "text/plain": [
              "<Figure size 1440x576 with 1 Axes>"
            ]
          },
          "metadata": {}
        }
      ]
    },
    {
      "cell_type": "code",
      "metadata": {
        "colab": {
          "base_uri": "https://localhost:8080/"
        },
        "id": "_RS5UfX-9eNu",
        "outputId": "752f7d5e-2487-478b-8805-504783d91069"
      },
      "source": [
        "data = df.filter(['Close'])\n",
        "dataset = data.values\n",
        "len(dataset)"
      ],
      "execution_count": 6,
      "outputs": [
        {
          "output_type": "execute_result",
          "data": {
            "text/plain": [
              "2003"
            ]
          },
          "metadata": {},
          "execution_count": 6
        }
      ]
    },
    {
      "cell_type": "code",
      "metadata": {
        "colab": {
          "base_uri": "https://localhost:8080/"
        },
        "id": "H94lDkzZcFHu",
        "outputId": "d20b06c1-4c7f-4745-a514-5ac8e292fec0"
      },
      "source": [
        "print(dataset)"
      ],
      "execution_count": 7,
      "outputs": [
        {
          "output_type": "stream",
          "text": [
            "[[14.6867857 ]\n",
            " [14.76571369]\n",
            " [14.92964268]\n",
            " ...\n",
            " [68.78749847]\n",
            " [69.96499634]\n",
            " [70.10250092]]\n"
          ],
          "name": "stdout"
        }
      ]
    },
    {
      "cell_type": "markdown",
      "metadata": {
        "id": "ZxJbAdQYa1wB"
      },
      "source": [
        "Here, I only use Close values to predict the stocks price"
      ]
    },
    {
      "cell_type": "markdown",
      "metadata": {
        "id": "B_moKvsYbMZp"
      },
      "source": [
        "### **Fixing Training size of the dataset**"
      ]
    },
    {
      "cell_type": "code",
      "metadata": {
        "colab": {
          "base_uri": "https://localhost:8080/"
        },
        "id": "RogS3ciK-Xf5",
        "outputId": "ef0e3201-1d04-4a01-b7f3-01ae28e91958"
      },
      "source": [
        "training_data_len = math.ceil(len(dataset)*.8)\n",
        "training_data_len"
      ],
      "execution_count": 8,
      "outputs": [
        {
          "output_type": "execute_result",
          "data": {
            "text/plain": [
              "1603"
            ]
          },
          "metadata": {},
          "execution_count": 8
        }
      ]
    },
    {
      "cell_type": "markdown",
      "metadata": {
        "id": "tucHKKwabFyH"
      },
      "source": [
        "Used 80% of data for training purpose."
      ]
    },
    {
      "cell_type": "markdown",
      "metadata": {
        "id": "tNB4nap8cxzF"
      },
      "source": [
        "### **Data Normalization**"
      ]
    },
    {
      "cell_type": "code",
      "metadata": {
        "colab": {
          "base_uri": "https://localhost:8080/"
        },
        "id": "3BEhaShH-lsT",
        "outputId": "b3dfdbfa-d6c2-40f8-f1e3-5e438cf604b0"
      },
      "source": [
        "scaler = MinMaxScaler(feature_range=(0,1))\n",
        "scaled_data = scaler.fit_transform(dataset)\n",
        "print(scaled_data.shape)\n",
        "print(scaled_data)"
      ],
      "execution_count": 9,
      "outputs": [
        {
          "output_type": "stream",
          "text": [
            "(2003, 1)\n",
            "[[0.01316509]\n",
            " [0.01457063]\n",
            " [0.01748985]\n",
            " ...\n",
            " [0.97658263]\n",
            " [0.99755134]\n",
            " [1.        ]]\n"
          ],
          "name": "stdout"
        }
      ]
    },
    {
      "cell_type": "markdown",
      "metadata": {
        "id": "T5gWqH8Ac39G"
      },
      "source": [
        "Here, I used MinMax Scaler to scale the data between 0 and 1. "
      ]
    },
    {
      "cell_type": "markdown",
      "metadata": {
        "id": "0RTZ-arHhKII"
      },
      "source": [
        "### **Splitting the dataset into training and testing data**"
      ]
    },
    {
      "cell_type": "code",
      "metadata": {
        "colab": {
          "base_uri": "https://localhost:8080/"
        },
        "id": "2UimC5i2-7VC",
        "outputId": "616784e7-e14e-46ab-fddb-dc1909b355d0"
      },
      "source": [
        "train_data = scaled_data[0:training_data_len, :]\n",
        "print(len(train_data))\n",
        "x_train, y_train = [], []\n",
        "\n",
        "for i in range(100, len(train_data)):\n",
        "  x_train.append(train_data[i-100:i, 0])\n",
        "  y_train.append(train_data[i,0])\n",
        "  if i<=101:\n",
        "    print(x_train)\n",
        "    print(y_train)"
      ],
      "execution_count": 10,
      "outputs": [
        {
          "output_type": "stream",
          "text": [
            "1603\n",
            "[array([0.01316509, 0.01457063, 0.01748985, 0.02026915, 0.01984303,\n",
            "       0.02080338, 0.02036454, 0.01962679, 0.01862191, 0.02173194,\n",
            "       0.02453668, 0.02367172, 0.01893355, 0.02345548, 0.01900352,\n",
            "       0.03569838, 0.03440732, 0.0360927 , 0.03973694, 0.04194384,\n",
            "       0.0417594 , 0.0410789 , 0.04397903, 0.04670744, 0.04979839,\n",
            "       0.05479095, 0.0652785 , 0.06543749, 0.07127594, 0.07563885,\n",
            "       0.06814049, 0.07102789, 0.07097066, 0.07906688, 0.07791571,\n",
            "       0.08004628, 0.08387497, 0.08600558, 0.09214292, 0.09661394,\n",
            "       0.09790501, 0.09835659, 0.09071194, 0.08886753, 0.08914103,\n",
            "       0.09632778, 0.09835024, 0.10269409, 0.11293358, 0.12659476,\n",
            "       0.12403805, 0.1240444 , 0.13392141, 0.13701237, 0.13481179,\n",
            "       0.13280207, 0.13070964, 0.13766105, 0.14243103, 0.14442805,\n",
            "       0.13949272, 0.13293563, 0.14507041, 0.15186917, 0.14868284,\n",
            "       0.15464214, 0.1562639 , 0.15130952, 0.14988489, 0.14770341,\n",
            "       0.13654806, 0.12058461, 0.13939096, 0.13852602, 0.12523371,\n",
            "       0.11603724, 0.11522315, 0.10796011, 0.13958174, 0.13811897,\n",
            "       0.13512978, 0.12303317, 0.1218566 , 0.12430516, 0.12165943,\n",
            "       0.111121  , 0.11381126, 0.11298446, 0.11362044, 0.11447267,\n",
            "       0.11204956, 0.10664995, 0.10343818, 0.09892898, 0.08877851,\n",
            "       0.08894386, 0.10859608, 0.10585498, 0.11449815, 0.11116553])]\n",
            "[0.10923844534122418]\n",
            "[array([0.01316509, 0.01457063, 0.01748985, 0.02026915, 0.01984303,\n",
            "       0.02080338, 0.02036454, 0.01962679, 0.01862191, 0.02173194,\n",
            "       0.02453668, 0.02367172, 0.01893355, 0.02345548, 0.01900352,\n",
            "       0.03569838, 0.03440732, 0.0360927 , 0.03973694, 0.04194384,\n",
            "       0.0417594 , 0.0410789 , 0.04397903, 0.04670744, 0.04979839,\n",
            "       0.05479095, 0.0652785 , 0.06543749, 0.07127594, 0.07563885,\n",
            "       0.06814049, 0.07102789, 0.07097066, 0.07906688, 0.07791571,\n",
            "       0.08004628, 0.08387497, 0.08600558, 0.09214292, 0.09661394,\n",
            "       0.09790501, 0.09835659, 0.09071194, 0.08886753, 0.08914103,\n",
            "       0.09632778, 0.09835024, 0.10269409, 0.11293358, 0.12659476,\n",
            "       0.12403805, 0.1240444 , 0.13392141, 0.13701237, 0.13481179,\n",
            "       0.13280207, 0.13070964, 0.13766105, 0.14243103, 0.14442805,\n",
            "       0.13949272, 0.13293563, 0.14507041, 0.15186917, 0.14868284,\n",
            "       0.15464214, 0.1562639 , 0.15130952, 0.14988489, 0.14770341,\n",
            "       0.13654806, 0.12058461, 0.13939096, 0.13852602, 0.12523371,\n",
            "       0.11603724, 0.11522315, 0.10796011, 0.13958174, 0.13811897,\n",
            "       0.13512978, 0.12303317, 0.1218566 , 0.12430516, 0.12165943,\n",
            "       0.111121  , 0.11381126, 0.11298446, 0.11362044, 0.11447267,\n",
            "       0.11204956, 0.10664995, 0.10343818, 0.09892898, 0.08877851,\n",
            "       0.08894386, 0.10859608, 0.10585498, 0.11449815, 0.11116553]), array([0.01457063, 0.01748985, 0.02026915, 0.01984303, 0.02080338,\n",
            "       0.02036454, 0.01962679, 0.01862191, 0.02173194, 0.02453668,\n",
            "       0.02367172, 0.01893355, 0.02345548, 0.01900352, 0.03569838,\n",
            "       0.03440732, 0.0360927 , 0.03973694, 0.04194384, 0.0417594 ,\n",
            "       0.0410789 , 0.04397903, 0.04670744, 0.04979839, 0.05479095,\n",
            "       0.0652785 , 0.06543749, 0.07127594, 0.07563885, 0.06814049,\n",
            "       0.07102789, 0.07097066, 0.07906688, 0.07791571, 0.08004628,\n",
            "       0.08387497, 0.08600558, 0.09214292, 0.09661394, 0.09790501,\n",
            "       0.09835659, 0.09071194, 0.08886753, 0.08914103, 0.09632778,\n",
            "       0.09835024, 0.10269409, 0.11293358, 0.12659476, 0.12403805,\n",
            "       0.1240444 , 0.13392141, 0.13701237, 0.13481179, 0.13280207,\n",
            "       0.13070964, 0.13766105, 0.14243103, 0.14442805, 0.13949272,\n",
            "       0.13293563, 0.14507041, 0.15186917, 0.14868284, 0.15464214,\n",
            "       0.1562639 , 0.15130952, 0.14988489, 0.14770341, 0.13654806,\n",
            "       0.12058461, 0.13939096, 0.13852602, 0.12523371, 0.11603724,\n",
            "       0.11522315, 0.10796011, 0.13958174, 0.13811897, 0.13512978,\n",
            "       0.12303317, 0.1218566 , 0.12430516, 0.12165943, 0.111121  ,\n",
            "       0.11381126, 0.11298446, 0.11362044, 0.11447267, 0.11204956,\n",
            "       0.10664995, 0.10343818, 0.09892898, 0.08877851, 0.08894386,\n",
            "       0.10859608, 0.10585498, 0.11449815, 0.11116553, 0.10923845])]\n",
            "[0.10923844534122418, 0.11558566539293841]\n"
          ],
          "name": "stdout"
        }
      ]
    },
    {
      "cell_type": "code",
      "metadata": {
        "id": "_vDJez3yBNC5",
        "colab": {
          "base_uri": "https://localhost:8080/"
        },
        "outputId": "ec61eb61-fb1f-4c60-8da8-aa312fc934e9"
      },
      "source": [
        "test_data = scaled_data[training_data_len: , :]\n",
        "print(len(test_data))\n",
        "x_test, y_test = [], []\n",
        "\n",
        "for i in range(100, len(test_data)):\n",
        "  x_test.append(test_data[i-100:i, 0])\n",
        "  y_test.append(train_data[i,0])\n",
        "  if i<=101:\n",
        "    print(x_test)\n",
        "    print(y_test)"
      ],
      "execution_count": 11,
      "outputs": [
        {
          "output_type": "stream",
          "text": [
            "400\n",
            "[array([0.5840976 , 0.58107023, 0.58694685, 0.58485443, 0.59019677,\n",
            "       0.58926183, 0.59117621, 0.58814884, 0.58636808, 0.58356332,\n",
            "       0.59856648, 0.60564509, 0.61223397, 0.61521678, 0.61290181,\n",
            "       0.60506631, 0.60297388, 0.60764846, 0.60061435, 0.60105957,\n",
            "       0.59233369, 0.59188854, 0.57831003, 0.58191611, 0.5772861 ,\n",
            "       0.574882  , 0.5626391 , 0.57270052, 0.57149854, 0.57746415,\n",
            "       0.57572789, 0.58494342, 0.57043004, 0.57701893, 0.58846051,\n",
            "       0.60008013, 0.5990562 , 0.58805984, 0.6020835 , 0.6034191 ,\n",
            "       0.60154929, 0.60395332, 0.59927874, 0.6058677 , 0.60390882,\n",
            "       0.60466565, 0.61085388, 0.61895648, 0.61624078, 0.60186089,\n",
            "       0.59709732, 0.59878902, 0.64869556, 0.67491762, 0.67758883,\n",
            "       0.68239696, 0.67367108, 0.67429435, 0.68155107, 0.6755409 ,\n",
            "       0.68150651, 0.68542426, 0.68760575, 0.7013178 , 0.72028314,\n",
            "       0.710845  , 0.70897512, 0.70901968, 0.71097855, 0.71396136,\n",
            "       0.72188585, 0.72972128, 0.74432371, 0.75345025, 0.76502538,\n",
            "       0.7682753 , 0.76164185, 0.744858  , 0.73684445, 0.72362211,\n",
            "       0.74819697, 0.73582052, 0.75959398, 0.74815241, 0.72161874,\n",
            "       0.72322145, 0.72380016, 0.73119044, 0.72063931, 0.7345739 ,\n",
            "       0.74080669, 0.7329267 , 0.75309409, 0.75661118, 0.76337811,\n",
            "       0.7723711 , 0.78479211, 0.76662809, 0.75015578, 0.7478408 ])]\n",
            "[0.10923844534122418]\n",
            "[array([0.5840976 , 0.58107023, 0.58694685, 0.58485443, 0.59019677,\n",
            "       0.58926183, 0.59117621, 0.58814884, 0.58636808, 0.58356332,\n",
            "       0.59856648, 0.60564509, 0.61223397, 0.61521678, 0.61290181,\n",
            "       0.60506631, 0.60297388, 0.60764846, 0.60061435, 0.60105957,\n",
            "       0.59233369, 0.59188854, 0.57831003, 0.58191611, 0.5772861 ,\n",
            "       0.574882  , 0.5626391 , 0.57270052, 0.57149854, 0.57746415,\n",
            "       0.57572789, 0.58494342, 0.57043004, 0.57701893, 0.58846051,\n",
            "       0.60008013, 0.5990562 , 0.58805984, 0.6020835 , 0.6034191 ,\n",
            "       0.60154929, 0.60395332, 0.59927874, 0.6058677 , 0.60390882,\n",
            "       0.60466565, 0.61085388, 0.61895648, 0.61624078, 0.60186089,\n",
            "       0.59709732, 0.59878902, 0.64869556, 0.67491762, 0.67758883,\n",
            "       0.68239696, 0.67367108, 0.67429435, 0.68155107, 0.6755409 ,\n",
            "       0.68150651, 0.68542426, 0.68760575, 0.7013178 , 0.72028314,\n",
            "       0.710845  , 0.70897512, 0.70901968, 0.71097855, 0.71396136,\n",
            "       0.72188585, 0.72972128, 0.74432371, 0.75345025, 0.76502538,\n",
            "       0.7682753 , 0.76164185, 0.744858  , 0.73684445, 0.72362211,\n",
            "       0.74819697, 0.73582052, 0.75959398, 0.74815241, 0.72161874,\n",
            "       0.72322145, 0.72380016, 0.73119044, 0.72063931, 0.7345739 ,\n",
            "       0.74080669, 0.7329267 , 0.75309409, 0.75661118, 0.76337811,\n",
            "       0.7723711 , 0.78479211, 0.76662809, 0.75015578, 0.7478408 ]), array([0.58107023, 0.58694685, 0.58485443, 0.59019677, 0.58926183,\n",
            "       0.59117621, 0.58814884, 0.58636808, 0.58356332, 0.59856648,\n",
            "       0.60564509, 0.61223397, 0.61521678, 0.61290181, 0.60506631,\n",
            "       0.60297388, 0.60764846, 0.60061435, 0.60105957, 0.59233369,\n",
            "       0.59188854, 0.57831003, 0.58191611, 0.5772861 , 0.574882  ,\n",
            "       0.5626391 , 0.57270052, 0.57149854, 0.57746415, 0.57572789,\n",
            "       0.58494342, 0.57043004, 0.57701893, 0.58846051, 0.60008013,\n",
            "       0.5990562 , 0.58805984, 0.6020835 , 0.6034191 , 0.60154929,\n",
            "       0.60395332, 0.59927874, 0.6058677 , 0.60390882, 0.60466565,\n",
            "       0.61085388, 0.61895648, 0.61624078, 0.60186089, 0.59709732,\n",
            "       0.59878902, 0.64869556, 0.67491762, 0.67758883, 0.68239696,\n",
            "       0.67367108, 0.67429435, 0.68155107, 0.6755409 , 0.68150651,\n",
            "       0.68542426, 0.68760575, 0.7013178 , 0.72028314, 0.710845  ,\n",
            "       0.70897512, 0.70901968, 0.71097855, 0.71396136, 0.72188585,\n",
            "       0.72972128, 0.74432371, 0.75345025, 0.76502538, 0.7682753 ,\n",
            "       0.76164185, 0.744858  , 0.73684445, 0.72362211, 0.74819697,\n",
            "       0.73582052, 0.75959398, 0.74815241, 0.72161874, 0.72322145,\n",
            "       0.72380016, 0.73119044, 0.72063931, 0.7345739 , 0.74080669,\n",
            "       0.7329267 , 0.75309409, 0.75661118, 0.76337811, 0.7723711 ,\n",
            "       0.78479211, 0.76662809, 0.75015578, 0.7478408 , 0.76164185])]\n",
            "[0.10923844534122418, 0.11558566539293841]\n"
          ],
          "name": "stdout"
        }
      ]
    },
    {
      "cell_type": "markdown",
      "metadata": {
        "id": "166Pn_-c8iBb"
      },
      "source": [
        "### **Convert Training and Testing Data to Right Shape**"
      ]
    },
    {
      "cell_type": "code",
      "metadata": {
        "colab": {
          "base_uri": "https://localhost:8080/"
        },
        "id": "BM4He-1I_1ex",
        "outputId": "99509114-8d1d-42a6-bfe5-f545dc584b4f"
      },
      "source": [
        "x_train, y_train = np.array(x_train), np.array(y_train)\n",
        "x_train = np.reshape(x_train, (x_train.shape[0],x_train.shape[1], 1))\n",
        "print(x_train.shape, y_train.shape)"
      ],
      "execution_count": 12,
      "outputs": [
        {
          "output_type": "stream",
          "text": [
            "(1503, 100, 1) (1503,)\n"
          ],
          "name": "stdout"
        }
      ]
    },
    {
      "cell_type": "code",
      "metadata": {
        "id": "AafAMw9YBu0J",
        "colab": {
          "base_uri": "https://localhost:8080/"
        },
        "outputId": "42cae38c-b778-4f30-bb07-ec4221d2c3fa"
      },
      "source": [
        "x_test, y_test = np.array(x_test), np.array(y_test)\n",
        "x_test = np.reshape(x_test, (x_test.shape[0], x_test.shape[1], 1))\n",
        "print(x_test.shape, y_test.shape)"
      ],
      "execution_count": 13,
      "outputs": [
        {
          "output_type": "stream",
          "text": [
            "(300, 100, 1) (300,)\n"
          ],
          "name": "stdout"
        }
      ]
    },
    {
      "cell_type": "markdown",
      "metadata": {
        "id": "7ZwQZpZy8yE_"
      },
      "source": [
        "### **RNN model (LSTM)**"
      ]
    },
    {
      "cell_type": "code",
      "metadata": {
        "id": "abfGxpjyASTH"
      },
      "source": [
        "model = Sequential()\n",
        "model.add(LSTM(50, return_sequences=True, input_shape = (x_train.shape[1], 1)))\n",
        "model.add(LSTM(50, return_sequences=True))\n",
        "model.add(LSTM(50))\n",
        "model.add(Dense(1))"
      ],
      "execution_count": 14,
      "outputs": []
    },
    {
      "cell_type": "markdown",
      "metadata": {
        "id": "uIrqo3SE9CGZ"
      },
      "source": [
        "**Model Compilation**"
      ]
    },
    {
      "cell_type": "code",
      "metadata": {
        "id": "QMezoknsA04Y"
      },
      "source": [
        "model.compile(optimizer='adam', loss='mean_squared_error')"
      ],
      "execution_count": 15,
      "outputs": []
    },
    {
      "cell_type": "code",
      "metadata": {
        "colab": {
          "base_uri": "https://localhost:8080/"
        },
        "id": "PgGGTB4_Q9hw",
        "outputId": "10bd66d0-9cab-414c-c54b-f17b3c6bf709"
      },
      "source": [
        "model.summary()"
      ],
      "execution_count": 16,
      "outputs": [
        {
          "output_type": "stream",
          "text": [
            "Model: \"sequential\"\n",
            "_________________________________________________________________\n",
            "Layer (type)                 Output Shape              Param #   \n",
            "=================================================================\n",
            "lstm (LSTM)                  (None, 100, 50)           10400     \n",
            "_________________________________________________________________\n",
            "lstm_1 (LSTM)                (None, 100, 50)           20200     \n",
            "_________________________________________________________________\n",
            "lstm_2 (LSTM)                (None, 50)                20200     \n",
            "_________________________________________________________________\n",
            "dense (Dense)                (None, 1)                 51        \n",
            "=================================================================\n",
            "Total params: 50,851\n",
            "Trainable params: 50,851\n",
            "Non-trainable params: 0\n",
            "_________________________________________________________________\n"
          ],
          "name": "stdout"
        }
      ]
    },
    {
      "cell_type": "markdown",
      "metadata": {
        "id": "_2SUG-Kf9Ime"
      },
      "source": [
        "**Training the LSTM Model**"
      ]
    },
    {
      "cell_type": "code",
      "metadata": {
        "colab": {
          "base_uri": "https://localhost:8080/"
        },
        "id": "ORmLRIAeBFMq",
        "outputId": "05dae412-3b7b-478c-bfcd-685f833a667c"
      },
      "source": [
        "lstm_model = model.fit(x_train, y_train, validation_data=(x_test, y_test), batch_size = 64, epochs=100, verbose=1)"
      ],
      "execution_count": 17,
      "outputs": [
        {
          "output_type": "stream",
          "text": [
            "Epoch 1/100\n",
            "24/24 [==============================] - 8s 126ms/step - loss: 0.0131 - val_loss: 0.3516\n",
            "Epoch 2/100\n",
            "24/24 [==============================] - 2s 74ms/step - loss: 0.0012 - val_loss: 0.3930\n",
            "Epoch 3/100\n",
            "24/24 [==============================] - 2s 74ms/step - loss: 5.5421e-04 - val_loss: 0.3492\n",
            "Epoch 4/100\n",
            "24/24 [==============================] - 2s 75ms/step - loss: 5.1710e-04 - val_loss: 0.3491\n",
            "Epoch 5/100\n",
            "24/24 [==============================] - 2s 74ms/step - loss: 5.0055e-04 - val_loss: 0.3388\n",
            "Epoch 6/100\n",
            "24/24 [==============================] - 2s 74ms/step - loss: 4.7947e-04 - val_loss: 0.3337\n",
            "Epoch 7/100\n",
            "24/24 [==============================] - 2s 74ms/step - loss: 4.6775e-04 - val_loss: 0.3354\n",
            "Epoch 8/100\n",
            "24/24 [==============================] - 2s 74ms/step - loss: 4.7570e-04 - val_loss: 0.3480\n",
            "Epoch 9/100\n",
            "24/24 [==============================] - 2s 74ms/step - loss: 4.8509e-04 - val_loss: 0.3255\n",
            "Epoch 10/100\n",
            "24/24 [==============================] - 2s 75ms/step - loss: 4.4840e-04 - val_loss: 0.3399\n",
            "Epoch 11/100\n",
            "24/24 [==============================] - 2s 74ms/step - loss: 4.3788e-04 - val_loss: 0.3362\n",
            "Epoch 12/100\n",
            "24/24 [==============================] - 2s 74ms/step - loss: 4.3597e-04 - val_loss: 0.3290\n",
            "Epoch 13/100\n",
            "24/24 [==============================] - 2s 74ms/step - loss: 4.2270e-04 - val_loss: 0.3262\n",
            "Epoch 14/100\n",
            "24/24 [==============================] - 2s 75ms/step - loss: 4.3008e-04 - val_loss: 0.3283\n",
            "Epoch 15/100\n",
            "24/24 [==============================] - 2s 74ms/step - loss: 3.9075e-04 - val_loss: 0.3528\n",
            "Epoch 16/100\n",
            "24/24 [==============================] - 2s 75ms/step - loss: 3.9206e-04 - val_loss: 0.3517\n",
            "Epoch 17/100\n",
            "24/24 [==============================] - 2s 75ms/step - loss: 3.9577e-04 - val_loss: 0.3313\n",
            "Epoch 18/100\n",
            "24/24 [==============================] - 2s 74ms/step - loss: 3.9593e-04 - val_loss: 0.3076\n",
            "Epoch 19/100\n",
            "24/24 [==============================] - 2s 75ms/step - loss: 3.7623e-04 - val_loss: 0.3217\n",
            "Epoch 20/100\n",
            "24/24 [==============================] - 2s 72ms/step - loss: 3.4846e-04 - val_loss: 0.3518\n",
            "Epoch 21/100\n",
            "24/24 [==============================] - 2s 74ms/step - loss: 3.4012e-04 - val_loss: 0.3409\n",
            "Epoch 22/100\n",
            "24/24 [==============================] - 2s 75ms/step - loss: 3.4467e-04 - val_loss: 0.3073\n",
            "Epoch 23/100\n",
            "24/24 [==============================] - 2s 75ms/step - loss: 3.7054e-04 - val_loss: 0.3000\n",
            "Epoch 24/100\n",
            "24/24 [==============================] - 2s 74ms/step - loss: 3.4947e-04 - val_loss: 0.3132\n",
            "Epoch 25/100\n",
            "24/24 [==============================] - 2s 73ms/step - loss: 3.6052e-04 - val_loss: 0.3249\n",
            "Epoch 26/100\n",
            "24/24 [==============================] - 2s 73ms/step - loss: 3.3404e-04 - val_loss: 0.3528\n",
            "Epoch 27/100\n",
            "24/24 [==============================] - 2s 74ms/step - loss: 3.2631e-04 - val_loss: 0.3492\n",
            "Epoch 28/100\n",
            "24/24 [==============================] - 2s 75ms/step - loss: 2.9515e-04 - val_loss: 0.3341\n",
            "Epoch 29/100\n",
            "24/24 [==============================] - 2s 74ms/step - loss: 2.9612e-04 - val_loss: 0.3384\n",
            "Epoch 30/100\n",
            "24/24 [==============================] - 2s 73ms/step - loss: 2.9739e-04 - val_loss: 0.3311\n",
            "Epoch 31/100\n",
            "24/24 [==============================] - 2s 75ms/step - loss: 2.7864e-04 - val_loss: 0.3620\n",
            "Epoch 32/100\n",
            "24/24 [==============================] - 2s 73ms/step - loss: 3.1391e-04 - val_loss: 0.3561\n",
            "Epoch 33/100\n",
            "24/24 [==============================] - 2s 75ms/step - loss: 2.8103e-04 - val_loss: 0.3302\n",
            "Epoch 34/100\n",
            "24/24 [==============================] - 2s 74ms/step - loss: 2.9218e-04 - val_loss: 0.3295\n",
            "Epoch 35/100\n",
            "24/24 [==============================] - 2s 75ms/step - loss: 2.7397e-04 - val_loss: 0.3320\n",
            "Epoch 36/100\n",
            "24/24 [==============================] - 2s 74ms/step - loss: 2.5852e-04 - val_loss: 0.3587\n",
            "Epoch 37/100\n",
            "24/24 [==============================] - 2s 74ms/step - loss: 2.6468e-04 - val_loss: 0.3377\n",
            "Epoch 38/100\n",
            "24/24 [==============================] - 2s 74ms/step - loss: 2.3883e-04 - val_loss: 0.3357\n",
            "Epoch 39/100\n",
            "24/24 [==============================] - 2s 74ms/step - loss: 3.0102e-04 - val_loss: 0.3932\n",
            "Epoch 40/100\n",
            "24/24 [==============================] - 2s 74ms/step - loss: 3.9069e-04 - val_loss: 0.3128\n",
            "Epoch 41/100\n",
            "24/24 [==============================] - 2s 75ms/step - loss: 3.1487e-04 - val_loss: 0.3170\n",
            "Epoch 42/100\n",
            "24/24 [==============================] - 2s 74ms/step - loss: 2.3616e-04 - val_loss: 0.3418\n",
            "Epoch 43/100\n",
            "24/24 [==============================] - 2s 74ms/step - loss: 2.1572e-04 - val_loss: 0.3459\n",
            "Epoch 44/100\n",
            "24/24 [==============================] - 2s 75ms/step - loss: 2.1893e-04 - val_loss: 0.3317\n",
            "Epoch 45/100\n",
            "24/24 [==============================] - 2s 74ms/step - loss: 2.2491e-04 - val_loss: 0.3328\n",
            "Epoch 46/100\n",
            "24/24 [==============================] - 2s 74ms/step - loss: 2.0868e-04 - val_loss: 0.3489\n",
            "Epoch 47/100\n",
            "24/24 [==============================] - 2s 75ms/step - loss: 2.0459e-04 - val_loss: 0.3444\n",
            "Epoch 48/100\n",
            "24/24 [==============================] - 2s 75ms/step - loss: 2.0372e-04 - val_loss: 0.3280\n",
            "Epoch 49/100\n",
            "24/24 [==============================] - 2s 74ms/step - loss: 1.8886e-04 - val_loss: 0.3533\n",
            "Epoch 50/100\n",
            "24/24 [==============================] - 2s 75ms/step - loss: 2.0147e-04 - val_loss: 0.3259\n",
            "Epoch 51/100\n",
            "24/24 [==============================] - 2s 74ms/step - loss: 1.9755e-04 - val_loss: 0.3513\n",
            "Epoch 52/100\n",
            "24/24 [==============================] - 2s 76ms/step - loss: 1.7301e-04 - val_loss: 0.3504\n",
            "Epoch 53/100\n",
            "24/24 [==============================] - 2s 74ms/step - loss: 1.8675e-04 - val_loss: 0.3319\n",
            "Epoch 54/100\n",
            "24/24 [==============================] - 2s 74ms/step - loss: 1.8315e-04 - val_loss: 0.3679\n",
            "Epoch 55/100\n",
            "24/24 [==============================] - 2s 74ms/step - loss: 1.7290e-04 - val_loss: 0.3447\n",
            "Epoch 56/100\n",
            "24/24 [==============================] - 2s 75ms/step - loss: 1.5716e-04 - val_loss: 0.3425\n",
            "Epoch 57/100\n",
            "24/24 [==============================] - 2s 75ms/step - loss: 1.6851e-04 - val_loss: 0.3320\n",
            "Epoch 58/100\n",
            "24/24 [==============================] - 2s 74ms/step - loss: 1.5423e-04 - val_loss: 0.3340\n",
            "Epoch 59/100\n",
            "24/24 [==============================] - 2s 73ms/step - loss: 1.6334e-04 - val_loss: 0.3388\n",
            "Epoch 60/100\n",
            "24/24 [==============================] - 2s 74ms/step - loss: 1.4643e-04 - val_loss: 0.3314\n",
            "Epoch 61/100\n",
            "24/24 [==============================] - 2s 75ms/step - loss: 1.6583e-04 - val_loss: 0.3358\n",
            "Epoch 62/100\n",
            "24/24 [==============================] - 2s 74ms/step - loss: 1.4752e-04 - val_loss: 0.3405\n",
            "Epoch 63/100\n",
            "24/24 [==============================] - 2s 74ms/step - loss: 1.4155e-04 - val_loss: 0.3481\n",
            "Epoch 64/100\n",
            "24/24 [==============================] - 2s 75ms/step - loss: 1.5435e-04 - val_loss: 0.3397\n",
            "Epoch 65/100\n",
            "24/24 [==============================] - 2s 74ms/step - loss: 1.3611e-04 - val_loss: 0.3479\n",
            "Epoch 66/100\n",
            "24/24 [==============================] - 2s 74ms/step - loss: 1.4244e-04 - val_loss: 0.3545\n",
            "Epoch 67/100\n",
            "24/24 [==============================] - 2s 73ms/step - loss: 1.3901e-04 - val_loss: 0.3579\n",
            "Epoch 68/100\n",
            "24/24 [==============================] - 2s 76ms/step - loss: 1.4246e-04 - val_loss: 0.3502\n",
            "Epoch 69/100\n",
            "24/24 [==============================] - 2s 74ms/step - loss: 1.2469e-04 - val_loss: 0.3519\n",
            "Epoch 70/100\n",
            "24/24 [==============================] - 2s 74ms/step - loss: 1.2492e-04 - val_loss: 0.3650\n",
            "Epoch 71/100\n",
            "24/24 [==============================] - 2s 74ms/step - loss: 1.3907e-04 - val_loss: 0.3696\n",
            "Epoch 72/100\n",
            "24/24 [==============================] - 2s 73ms/step - loss: 1.3133e-04 - val_loss: 0.3379\n",
            "Epoch 73/100\n",
            "24/24 [==============================] - 2s 75ms/step - loss: 1.1826e-04 - val_loss: 0.3324\n",
            "Epoch 74/100\n",
            "24/24 [==============================] - 2s 74ms/step - loss: 1.3296e-04 - val_loss: 0.3515\n",
            "Epoch 75/100\n",
            "24/24 [==============================] - 2s 74ms/step - loss: 1.1275e-04 - val_loss: 0.3409\n",
            "Epoch 76/100\n",
            "24/24 [==============================] - 2s 75ms/step - loss: 1.2209e-04 - val_loss: 0.3477\n",
            "Epoch 77/100\n",
            "24/24 [==============================] - 2s 74ms/step - loss: 1.1118e-04 - val_loss: 0.3235\n",
            "Epoch 78/100\n",
            "24/24 [==============================] - 2s 75ms/step - loss: 1.3672e-04 - val_loss: 0.3497\n",
            "Epoch 79/100\n",
            "24/24 [==============================] - 2s 74ms/step - loss: 1.3274e-04 - val_loss: 0.3379\n",
            "Epoch 80/100\n",
            "24/24 [==============================] - 2s 75ms/step - loss: 1.2915e-04 - val_loss: 0.3515\n",
            "Epoch 81/100\n",
            "24/24 [==============================] - 2s 75ms/step - loss: 1.0514e-04 - val_loss: 0.3536\n",
            "Epoch 82/100\n",
            "24/24 [==============================] - 2s 75ms/step - loss: 1.0960e-04 - val_loss: 0.3337\n",
            "Epoch 83/100\n",
            "24/24 [==============================] - 2s 75ms/step - loss: 1.0542e-04 - val_loss: 0.3641\n",
            "Epoch 84/100\n",
            "24/24 [==============================] - 2s 75ms/step - loss: 1.3235e-04 - val_loss: 0.3617\n",
            "Epoch 85/100\n",
            "24/24 [==============================] - 2s 74ms/step - loss: 1.1373e-04 - val_loss: 0.3701\n",
            "Epoch 86/100\n",
            "24/24 [==============================] - 2s 74ms/step - loss: 1.1766e-04 - val_loss: 0.3487\n",
            "Epoch 87/100\n",
            "24/24 [==============================] - 2s 75ms/step - loss: 1.0772e-04 - val_loss: 0.3453\n",
            "Epoch 88/100\n",
            "24/24 [==============================] - 2s 73ms/step - loss: 1.0475e-04 - val_loss: 0.3461\n",
            "Epoch 89/100\n",
            "24/24 [==============================] - 2s 75ms/step - loss: 9.8638e-05 - val_loss: 0.3438\n",
            "Epoch 90/100\n",
            "24/24 [==============================] - 2s 73ms/step - loss: 1.0498e-04 - val_loss: 0.3451\n",
            "Epoch 91/100\n",
            "24/24 [==============================] - 2s 74ms/step - loss: 1.0497e-04 - val_loss: 0.3250\n",
            "Epoch 92/100\n",
            "24/24 [==============================] - 2s 75ms/step - loss: 1.2467e-04 - val_loss: 0.3451\n",
            "Epoch 93/100\n",
            "24/24 [==============================] - 2s 74ms/step - loss: 9.1443e-05 - val_loss: 0.3443\n",
            "Epoch 94/100\n",
            "24/24 [==============================] - 2s 73ms/step - loss: 9.8535e-05 - val_loss: 0.3463\n",
            "Epoch 95/100\n",
            "24/24 [==============================] - 2s 75ms/step - loss: 9.8324e-05 - val_loss: 0.3349\n",
            "Epoch 96/100\n",
            "24/24 [==============================] - 2s 74ms/step - loss: 9.6123e-05 - val_loss: 0.3396\n",
            "Epoch 97/100\n",
            "24/24 [==============================] - 2s 74ms/step - loss: 9.5584e-05 - val_loss: 0.3315\n",
            "Epoch 98/100\n",
            "24/24 [==============================] - 2s 75ms/step - loss: 1.0830e-04 - val_loss: 0.3552\n",
            "Epoch 99/100\n",
            "24/24 [==============================] - 2s 74ms/step - loss: 9.3899e-05 - val_loss: 0.3389\n",
            "Epoch 100/100\n",
            "24/24 [==============================] - 2s 75ms/step - loss: 1.0953e-04 - val_loss: 0.3286\n"
          ],
          "name": "stdout"
        }
      ]
    },
    {
      "cell_type": "markdown",
      "metadata": {
        "id": "vjZ_W2wz_j8K"
      },
      "source": [
        "**Visualize Loss**"
      ]
    },
    {
      "cell_type": "code",
      "metadata": {
        "colab": {
          "base_uri": "https://localhost:8080/",
          "height": 304
        },
        "id": "8lgOe4D--irf",
        "outputId": "4f80165e-0949-410f-8402-e9a853a5e01b"
      },
      "source": [
        "plt.plot(lstm_model.history['loss'])\n",
        "plt.xlabel('Epochs')\n",
        "plt.ylabel('Loss')\n",
        "plt.show()"
      ],
      "execution_count": 18,
      "outputs": [
        {
          "output_type": "display_data",
          "data": {
            "image/png": "[encoded data removed]",
            "text/plain": [
              "<Figure size 432x288 with 1 Axes>"
            ]
          },
          "metadata": {}
        }
      ]
    },
    {
      "cell_type": "markdown",
      "metadata": {
        "id": "LGvVTg-l9TFx"
      },
      "source": [
        "**Making Prediction**"
      ]
    },
    {
      "cell_type": "code",
      "metadata": {
        "id": "i6tLGxSqB8UG"
      },
      "source": [
        "train_predictions = model.predict(x_train)\n",
        "test_predictions = model.predict(x_test)"
      ],
      "execution_count": 19,
      "outputs": []
    },
    {
      "cell_type": "code",
      "metadata": {
        "id": "Y5bBGPEqyyPp"
      },
      "source": [
        "train_predictions = scaler.inverse_transform(train_predictions)\n",
        "test_predictions = scaler.inverse_transform(test_predictions)"
      ],
      "execution_count": 20,
      "outputs": []
    },
    {
      "cell_type": "code",
      "metadata": {
        "colab": {
          "base_uri": "https://localhost:8080/"
        },
        "id": "EaDsmyie0IN9",
        "outputId": "381ff5a2-ff28-4896-82b5-73bf3bdd4df2"
      },
      "source": [
        "print(train_predictions.shape, test_predictions.shape)"
      ],
      "execution_count": 21,
      "outputs": [
        {
          "output_type": "stream",
          "text": [
            "(1503, 1) (300, 1)\n"
          ],
          "name": "stdout"
        }
      ]
    },
    {
      "cell_type": "markdown",
      "metadata": {
        "id": "-fnApu-M9WOL"
      },
      "source": [
        "### **Evaluation Metrix**"
      ]
    },
    {
      "cell_type": "code",
      "metadata": {
        "colab": {
          "base_uri": "https://localhost:8080/"
        },
        "id": "Xi2nBm2_zICe",
        "outputId": "884d87d3-664b-4a35-f71c-56d45df24b73"
      },
      "source": [
        "math.sqrt(mean_squared_error(y_train,train_predictions))"
      ],
      "execution_count": 22,
      "outputs": [
        {
          "output_type": "execute_result",
          "data": {
            "text/plain": [
              "27.73010769326215"
            ]
          },
          "metadata": {},
          "execution_count": 22
        }
      ]
    },
    {
      "cell_type": "code",
      "metadata": {
        "colab": {
          "base_uri": "https://localhost:8080/"
        },
        "id": "kUzSSobDzV2x",
        "outputId": "2d52327b-6d70-490f-a47e-fa4d163179a5"
      },
      "source": [
        "math.sqrt(mean_squared_error(y_test,test_predictions))"
      ],
      "execution_count": 23,
      "outputs": [
        {
          "output_type": "execute_result",
          "data": {
            "text/plain": [
              "49.854717296640295"
            ]
          },
          "metadata": {},
          "execution_count": 23
        }
      ]
    },
    {
      "cell_type": "markdown",
      "metadata": {
        "id": "_MydaNIPBzU_"
      },
      "source": [
        "### **Plot the Graph to visualize the Predicted stocks**"
      ]
    },
    {
      "cell_type": "code",
      "metadata": {
        "colab": {
          "base_uri": "https://localhost:8080/",
          "height": 594
        },
        "id": "swVDxwMSCNIm",
        "outputId": "9177ae00-fc03-4784-ef19-f503b1fb1ce7"
      },
      "source": [
        "# train predictions\n",
        "trainPredictPlot = np.empty_like(dataset)\n",
        "trainPredictPlot[:, :] = np.nan\n",
        "trainPredictPlot[100:len(train_predictions)+100, :] = train_predictions\n",
        "# test predictions\n",
        "testPredictPlot = np.empty_like(dataset)\n",
        "testPredictPlot[:] = np.nan\n",
        "testPredictPlot[len(train_predictions)+(100*2):len(dataset), :] = test_predictions\n",
        "\n",
        "plt.figure(figsize = (19,9))\n",
        "plt.title('RNN model LSTM')\n",
        "plt.ylabel('Close Price in $', fontsize = 20)\n",
        "\n",
        "plt.plot(dataset)\n",
        "plt.plot(trainPredictPlot)\n",
        "plt.plot(testPredictPlot)\n",
        "plt.legend(['Data', 'Train', 'Predictions'], loc='lower right')\n",
        "plt.show()"
      ],
      "execution_count": 25,
      "outputs": [
        {
          "output_type": "display_data",
          "data": {
            "image/png": "[encoded data removed]",
            "text/plain": [
              "<Figure size 1368x648 with 1 Axes>"
            ]
          },
          "metadata": {}
        }
      ]
    },
    {
      "cell_type": "markdown",
      "metadata": {
        "id": "odkgh9VjFPD3"
      },
      "source": [
        "According to this figure, LSTM model is very accurate as it predicts stocks accurately."
      ]
    }
  ]
}